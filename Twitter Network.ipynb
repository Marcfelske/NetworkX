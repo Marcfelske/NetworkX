{
 "cells": [
  {
   "cell_type": "code",
   "execution_count": null,
   "metadata": {
    "colab": {},
    "colab_type": "code",
    "id": "noBM9ZRYnt_J"
   },
   "outputs": [],
   "source": [
    "run_in = 'local'\n",
    "#run_in = 'colab'"
   ]
  },
  {
   "cell_type": "code",
   "execution_count": null,
   "metadata": {
    "colab": {
     "base_uri": "https://localhost:8080/",
     "height": 888
    },
    "colab_type": "code",
    "executionInfo": {
     "elapsed": 20555,
     "status": "ok",
     "timestamp": 1561054677801,
     "user": {
      "displayName": "DISPLAYNAME",
      "photoUrl": "PHOTOURL",
      "userId": "USERID"
     },
     "user_tz": -60
    },
    "id": "T9gn1ZUPnvEW",
    "outputId": "6ba6ac88-2e57-4e68-b861-4ac957a31c46"
   },
   "outputs": [],
   "source": [
    "if run_in == 'local':\n",
    "  import json\n",
    "  import matplotlib.pyplot as plt\n",
    "  import IPython\n",
    "  import os\n",
    "  import networkx as nx\n",
    "  import matplotlib.pyplot as plt\n",
    "  import pprint\n",
    "  pp = pprint.PrettyPrinter(indent=4)\n",
    "  import datetime\n",
    "  import time\n",
    "  import collections\n",
    "  import pandas as pd\n",
    "  import tweepy\n",
    "  print('Local runtime has packages')\n",
    "  \n",
    "if run_in == 'colab':\n",
    "  !pip install networkx[all]\n",
    "  !pip install matplotlib\n",
    "  !pip install tweepy\n",
    "  import json\n",
    "  import matplotlib.pyplot as plt\n",
    "  import IPython\n",
    "  import os\n",
    "  import networkx as nx\n",
    "  import matplotlib.pyplot as plt\n",
    "  import pprint\n",
    "  pp = pprint.PrettyPrinter(indent=4)\n",
    "  import datetime\n",
    "  import time\n",
    "  import collections\n",
    "  import pandas as pd\n",
    "  import tweepy\n",
    "  import sys\n",
    "  sys.setrecursionlimit(3000)"
   ]
  },
  {
   "cell_type": "code",
   "execution_count": null,
   "metadata": {
    "colab": {
     "base_uri": "https://localhost:8080/",
     "height": 510
    },
    "colab_type": "code",
    "executionInfo": {
     "elapsed": 20555,
     "status": "ok",
     "timestamp": 1561054677802,
     "user": {
      "displayName": "DISPLAYNAME",
      "photoUrl": "PHOTOURL",
      "userId": "USERID"
     },
     "user_tz": -60
    },
    "id": "xusEt_Fhn9oM",
    "outputId": "29fb1fba-07e8-4b03-ec7a-5d43390ddf62"
   },
   "outputs": [],
   "source": [
    "version_id = \"V14\"\n",
    "\n",
    "if run_in == 'local':\n",
    "  base_path = \"/users/USERNAME/Google Drive/USERNAME/\"\n",
    "if run_in == 'colab':\n",
    "  base_path = \"/content/drive/My Drive/USERNAME/\"\n",
    "  from google.colab import drive\n",
    "  drive.mount('/content/drive')\n",
    "  print()\n",
    "\n",
    "print('\\033[1m' +  'base_path set to:' + '\\033[0m')\n",
    "print(base_path)\n",
    "print()\n",
    "\n",
    "followers_filepath = base_path + \"Pitchbook_Crunchbase_Tracxn_Raw/Don't touch \" + version_id + \"/\" + version_id + \"_followers_edgelist.txt\"\n",
    "friends_filepath = base_path + \"Pitchbook_Crunchbase_Tracxn_Raw/Don't touch \" + version_id + \"/\" + version_id +  \"_friends_edgelist.txt\"\n",
    "bi_direct_filepath = base_path + \"Pitchbook_Crunchbase_Tracxn_Raw/Don't touch \" + version_id + \"/\" + version_id +  \"_bi_direct_edgelist.txt\"\n",
    "bi_direct_weighted_filepath = base_path + \"Pitchbook_Crunchbase_Tracxn_Raw/Don't touch \" + version_id + \"/\" + version_id +  \"_bi_direct_weighted_edgelist.txt\"\n",
    "\n",
    "print('\\033[1m' +  '_followers_weighted_filepath set to:' + '\\033[0m')\n",
    "print(followers_filepath)\n",
    "print(\"followers_filepath exists:\", os.path.isfile(followers_filepath))\n",
    "print(os.path.getsize(followers_filepath)/1000000, \"MB\")\n",
    "timestamp = os.path.getctime(followers_filepath) # seconds since the epoch\n",
    "creation_time = datetime.datetime.fromtimestamp(timestamp).strftime('%Y-%m-%d %H:%M:%S')\n",
    "print(\"Created at:\",creation_time)\n",
    "print()\n",
    "\n",
    "print('\\033[1m' +  '_friends_weighted_filepath set to:' + '\\033[0m')\n",
    "print(friends_filepath)\n",
    "print(\"friends_filepath exists:\", os.path.isfile(friends_filepath))\n",
    "print(os.path.getsize(friends_filepath)/1000000, \"MB\")\n",
    "timestamp = os.path.getctime(friends_filepath) # seconds since the epoch\n",
    "creation_time = datetime.datetime.fromtimestamp(timestamp).strftime('%Y-%m-%d %H:%M:%S')\n",
    "print(\"Created at:\",creation_time)\n",
    "print()\n",
    "\n",
    "print('\\033[1m' +  '_bi_direct_weighted_filepath set to:' + '\\033[0m')\n",
    "print(bi_direct_filepath)\n",
    "print(\"bi_direct_filepath exists:\", os.path.isfile(bi_direct_filepath))\n",
    "print(os.path.getsize(bi_direct_filepath)/1000000, \"MB\")\n",
    "timestamp = os.path.getctime(bi_direct_filepath) # seconds since the epoch\n",
    "creation_time = datetime.datetime.fromtimestamp(timestamp).strftime('%Y-%m-%d %H:%M:%S')\n",
    "print(\"Created at:\",creation_time)\n",
    "print()\n",
    "\n",
    "print('\\033[1m' +  '_bi_direct_weighted_filepath set to:' + '\\033[0m')\n",
    "print(bi_direct_weighted_filepath)\n",
    "print(\"bi_direct_weighted_filepath exists:\", os.path.isfile(bi_direct_weighted_filepath))\n",
    "print(os.path.getsize(bi_direct_weighted_filepath)/1000000, \"MB\")\n",
    "timestamp = os.path.getctime(bi_direct_weighted_filepath) # seconds since the epoch\n",
    "creation_time = datetime.datetime.fromtimestamp(timestamp).strftime('%Y-%m-%d %H:%M:%S')\n",
    "print(\"Created at:\",creation_time)\n",
    "print()"
   ]
  },
  {
   "cell_type": "markdown",
   "metadata": {
    "colab_type": "text",
    "id": "uISQOjpn379J"
   },
   "source": [
    "# Settings\n",
    "which type of network should be analysed?"
   ]
  },
  {
   "cell_type": "code",
   "execution_count": null,
   "metadata": {
    "colab": {},
    "colab_type": "code",
    "id": "50p3Gszc24rG"
   },
   "outputs": [],
   "source": [
    "#analyse = \"followers\"\n",
    "analyse = \"friends\"\n",
    "#analyse = \"fnf\"\n",
    "#analyse = \"bi_direct\"\n",
    "#analyse = \"weighted_bi_direct\"\n",
    "#analyse = \"test\""
   ]
  },
  {
   "cell_type": "markdown",
   "metadata": {
    "colab_type": "text",
    "id": "Ph5SFwYCcwYs"
   },
   "source": [
    "Load the twitter_id2company_name dataframe of the correct version"
   ]
  },
  {
   "cell_type": "code",
   "execution_count": null,
   "metadata": {
    "colab": {
     "base_uri": "https://localhost:8080/",
     "height": 393
    },
    "colab_type": "code",
    "executionInfo": {
     "elapsed": 16103,
     "status": "ok",
     "timestamp": 1561054678658,
     "user": {
      "displayName": "DISPLAYNAME",
      "photoUrl": "PHOTOURL",
      "userId": "USERID"
     },
     "user_tz": -60
    },
    "id": "QzWEdyfBhlV8",
    "outputId": "00b82187-8140-4bd8-de0e-83c4a4b5b8a6"
   },
   "outputs": [],
   "source": [
    "if version_id in [\"V0\",\"V1\",\"V2\",\"V3\",\"V4\",\"V5\",\"V6\"]:\n",
    "  df_company2id = pd.read_excel(base_path + \"Pitchbook_Crunchbase_Tracxn_Raw/VX_twitter_ID//\" + version_id + \"_twitter_ID.xlsx\", version_id +'_twitter_ID_df_all', usecols=\"A,G\", header = 0)\n",
    "  df_company2id = df_company2id.drop_duplicates()\n",
    "  company2id = dict(zip(df_company2id.twitter_id, df_company2id.company_name))\n",
    "  id2company = dict(zip(df_company2id.company_name, df_company2id.twitter_id))\n",
    "\n",
    "if version_id in [\"V7\",\"V8\",\"V9\",\"V10\",\"V11\",\"V12\",\"V13\",\"V14\"]:\n",
    "  df_company2id = pd.read_excel(base_path + \"Pitchbook_Crunchbase_Tracxn_Raw/VX_twitter_ID/\" + version_id + \"_twitter_ID.xlsx\", version_id +'_twitter_ID_df_all', usecols=\"A,T\", header = 0)\n",
    "  df_company2id = df_company2id.drop_duplicates()\n",
    "  company2id = dict(zip(df_company2id.twitter_id, df_company2id.company_name))\n",
    "  id2company = dict(zip(df_company2id.company_name, df_company2id.twitter_id))\n",
    "\n",
    "#correct import check (see if the correct columns were imported as they change over the versions)  \n",
    "df_company2id_headline = list(df_company2id)\n",
    "if \"twitter_id\" and \"company_name\" in df_company2id_headline:\n",
    "  print(\"all_good, company_name and twitter_id were chosen as columns: \")\n",
    "  print(\"df_company2id_headline\", df_company2id_headline)\n",
    "  \n",
    "df_company2id[:10]"
   ]
  },
  {
   "cell_type": "code",
   "execution_count": null,
   "metadata": {
    "colab": {
     "base_uri": "https://localhost:8080/",
     "height": 34
    },
    "colab_type": "code",
    "executionInfo": {
     "elapsed": 15876,
     "status": "ok",
     "timestamp": 1561054678659,
     "user": {
      "displayName": "DISPLAYNAME",
      "photoUrl": "PHOTOURL",
      "userId": "USERID"
     },
     "user_tz": -60
    },
    "id": "GBFbemN8il26",
    "outputId": "dc716d6c-a3fb-49a0-91ea-d4c125bbe760"
   },
   "outputs": [],
   "source": [
    "df_company2id.shape"
   ]
  },
  {
   "cell_type": "code",
   "execution_count": null,
   "metadata": {},
   "outputs": [],
   "source": [
    "df_company2id_search = df_company2id.loc[df_company2id['company_name'] == \"growth intelligence\"]\n",
    "df_company2id_search"
   ]
  },
  {
   "cell_type": "markdown",
   "metadata": {
    "colab_type": "text",
    "id": "-dvs_itUYQ89"
   },
   "source": [
    "# Graph import"
   ]
  },
  {
   "cell_type": "markdown",
   "metadata": {
    "colab_type": "text",
    "id": "QjW5-c5Zgsia"
   },
   "source": [
    "## Followers"
   ]
  },
  {
   "cell_type": "code",
   "execution_count": null,
   "metadata": {
    "colab": {
     "base_uri": "https://localhost:8080/",
     "height": 170
    },
    "colab_type": "code",
    "executionInfo": {
     "elapsed": 66441,
     "status": "ok",
     "timestamp": 1561054730665,
     "user": {
      "displayName": "DISPLAYNAME",
      "photoUrl": "PHOTOURL",
      "userId": "USERID"
     },
     "user_tz": -60
    },
    "id": "BUOKDh5uYMLG",
    "outputId": "4b16a84e-3ae2-4cdf-85c8-e5a10b5f019c"
   },
   "outputs": [],
   "source": [
    "if analyse == \"fnf\" or analyse == \"followers\":\n",
    "  print(datetime.datetime.now())\n",
    "  followers_graph_data = nx.read_weighted_edgelist(followers_filepath, delimiter=' ', nodetype=str, encoding='utf-8-sig', create_using=nx.DiGraph())\n",
    "  followers_graph = nx.Graph(name = \"followers_graph\")\n",
    "  followers_graph = nx.compose(followers_graph_data,followers_graph)\n",
    "  del followers_graph_data\n",
    "  print('Successfully created graph of nodes followers the startups')\n",
    "  print(nx.info(followers_graph))\n",
    "  print(datetime.datetime.now())"
   ]
  },
  {
   "cell_type": "markdown",
   "metadata": {
    "colab_type": "text",
    "id": "rp1btPGSgv9j"
   },
   "source": [
    "## Friends"
   ]
  },
  {
   "cell_type": "code",
   "execution_count": null,
   "metadata": {
    "colab": {},
    "colab_type": "code",
    "id": "tCUw_TeAWw47"
   },
   "outputs": [],
   "source": [
    "if analyse == \"fnf\" or analyse == \"friends\":\n",
    "  print(datetime.datetime.now())\n",
    "  friends_graph_data = nx.read_weighted_edgelist(friends_filepath, delimiter=' ', nodetype=str, encoding='utf-8-sig', create_using=nx.DiGraph())\n",
    "  friends_graph = nx.Graph(name = \"friends_graph\")\n",
    "  friends_graph = nx.compose(friends_graph_data,friends_graph)\n",
    "  del friends_graph_data\n",
    "  print('Successfully created graph of nodes friends the startups')\n",
    "  print(nx.info(friends_graph))\n",
    "  print(datetime.datetime.now())"
   ]
  },
  {
   "cell_type": "markdown",
   "metadata": {
    "colab_type": "text",
    "id": "-an15Ii6gzFO"
   },
   "source": [
    "## Followers and Friends"
   ]
  },
  {
   "cell_type": "code",
   "execution_count": null,
   "metadata": {
    "colab": {},
    "colab_type": "code",
    "id": "Ad_OEf4XWwnh"
   },
   "outputs": [],
   "source": [
    "if analyse == \"fnf\":\n",
    "  #https://networkx.github.io/documentation/networkx-1.10/reference/generated/networkx.algorithms.operators.binary.compose.html?highlight=compose\n",
    "  print(datetime.datetime.now())\n",
    "  fnf_graph_data = nx.compose(followers_graph,friends_graph)\n",
    "  fnf_graph = nx.Graph(name = \"followers_n_friends_graph\")\n",
    "  fnf_graph = nx.compose(fnf_graph,fnf_graph_data)\n",
    "  del friends_graph\n",
    "  del followers_graph\n",
    "  del fnf_graph_data\n",
    "  print('Successfully combined the followers and friends graph')\n",
    "  print(nx.info(fnf_graph))\n",
    "  print(datetime.datetime.now())"
   ]
  },
  {
   "cell_type": "markdown",
   "metadata": {
    "colab_type": "text",
    "id": "njBdPkhcg2fD"
   },
   "source": [
    "## Bi-directional Followers and Friends"
   ]
  },
  {
   "cell_type": "code",
   "execution_count": null,
   "metadata": {
    "colab": {},
    "colab_type": "code",
    "id": "VBmybN1FIE98"
   },
   "outputs": [],
   "source": [
    "if analyse == \"bi_direct\":\n",
    "  print(datetime.datetime.now())\n",
    "  bi_direct_data = nx.read_edgelist(bi_direct_filepath, delimiter=' ', nodetype=str, encoding='utf-8-sig', create_using=nx.DiGraph())\n",
    "  bi_direct_graph = nx.Graph(name = \"bi_direct\")\n",
    "  bi_direct_graph = nx.compose(bi_direct_data,bi_direct_graph)\n",
    "  del bi_direct_data\n",
    "  print('Successfully created graph of bi_direct')\n",
    "  print(nx.info(bi_direct_graph))\n",
    "  print(datetime.datetime.now())"
   ]
  },
  {
   "cell_type": "markdown",
   "metadata": {
    "colab_type": "text",
    "id": "RkQ1XQNzx70N"
   },
   "source": [
    "## Weighted bi-directional Followers and Friends"
   ]
  },
  {
   "cell_type": "code",
   "execution_count": null,
   "metadata": {
    "colab": {},
    "colab_type": "code",
    "id": "kjlaev2nx5S6"
   },
   "outputs": [],
   "source": [
    "if analyse == \"weighted_bi_direct\":\n",
    "  print(datetime.datetime.now())\n",
    "  weighted_bi_direct_graph_data = nx.read_weighted_edgelist(bi_direct_weighted_filepath, delimiter=' ', nodetype=str, encoding='utf-8-sig', create_using=nx.DiGraph())\n",
    "  weighted_bi_direct_graph = nx.Graph(name = \"bi_direct_fnf\")\n",
    "  weighted_bi_direct_graph = nx.compose(weighted_bi_direct_graph,weighted_bi_direct_graph_data)\n",
    "  del weighted_bi_direct_graph_data\n",
    "  print('Successfully created graph of weighted_bi_direct')\n",
    "  print(nx.info(weighted_bi_direct_graph))\n",
    "  print(datetime.datetime.now())"
   ]
  },
  {
   "cell_type": "markdown",
   "metadata": {
    "colab_type": "text",
    "id": "_CpAkPxLkOIh"
   },
   "source": [
    "# Follower Analysis"
   ]
  },
  {
   "cell_type": "markdown",
   "metadata": {
    "colab_type": "text",
    "id": "gQy67KS1SaOb"
   },
   "source": [
    "## Decide if we want to remove nodes under a certain degree"
   ]
  },
  {
   "cell_type": "markdown",
   "metadata": {
    "colab_type": "text",
    "id": "q3xSIXBJV82_"
   },
   "source": [
    "show removable nodes"
   ]
  },
  {
   "cell_type": "code",
   "execution_count": null,
   "metadata": {
    "colab": {},
    "colab_type": "code",
    "id": "DlIdznkJVxi8",
    "outputId": "7686d8b2-d869-4172-e38c-027417ed79ed"
   },
   "outputs": [],
   "source": [
    "if analyse == \"followers\":\n",
    "  remove = [node for node,degree in followers_graph.degree() if degree < 0]\n",
    "  print(len(remove))\n",
    "  print(remove[:10])"
   ]
  },
  {
   "cell_type": "markdown",
   "metadata": {
    "colab_type": "text",
    "id": "5grf6fJkV_FR"
   },
   "source": [
    "remove nodes from graph"
   ]
  },
  {
   "cell_type": "code",
   "execution_count": null,
   "metadata": {
    "colab": {},
    "colab_type": "code",
    "id": "NMGm6nYfWWWU"
   },
   "outputs": [],
   "source": [
    "if analyse == \"followers\":\n",
    "  followers_graph.remove_nodes_from(remove)\n",
    "  followers_graph.degree()"
   ]
  },
  {
   "cell_type": "markdown",
   "metadata": {
    "colab_type": "text",
    "id": "6HNx8LFHWDpX"
   },
   "source": [
    "show current nodes"
   ]
  },
  {
   "cell_type": "code",
   "execution_count": null,
   "metadata": {
    "colab": {},
    "colab_type": "code",
    "id": "vVbx6eluWPuf",
    "outputId": "e3c68a0a-3c75-487e-a602-34e2fe85ed4f"
   },
   "outputs": [],
   "source": [
    "if analyse == \"followers\":\n",
    "  followers_graph.nodes()\n",
    "  print(\"we have \" + str(len(followers_graph.nodes())) + \" nodes left for analysis\")"
   ]
  },
  {
   "cell_type": "markdown",
   "metadata": {
    "colab_type": "text",
    "id": "qqXbj3skSfKR"
   },
   "source": [
    "## Analyse"
   ]
  },
  {
   "cell_type": "markdown",
   "metadata": {
    "colab_type": "text",
    "id": "lFll77b8WKI7"
   },
   "source": [
    "create a dictionary which will collect all the in_degree stats of the startups (i.e. the followers)\n",
    "\n"
   ]
  },
  {
   "cell_type": "code",
   "execution_count": null,
   "metadata": {
    "colab": {},
    "colab_type": "code",
    "id": "pAngvVXLTnGN"
   },
   "outputs": [],
   "source": [
    "if analyse == \"followers\":\n",
    "  followers_statsdict = {}\n",
    "\n",
    "  for key,value in company2id.items():\n",
    "    followers_statsdict[key] = {}\n",
    "    followers_statsdict[key][\"company_name\"] = value"
   ]
  },
  {
   "cell_type": "markdown",
   "metadata": {
    "colab_type": "text",
    "id": "YV96hTL7Svzp"
   },
   "source": [
    "### Degree"
   ]
  },
  {
   "cell_type": "markdown",
   "metadata": {
    "colab_type": "text",
    "id": "DEzmyHc2K-5T"
   },
   "source": [
    "Total degree"
   ]
  },
  {
   "cell_type": "code",
   "execution_count": null,
   "metadata": {
    "colab": {},
    "colab_type": "code",
    "id": "BR1YUWHZb_D0",
    "outputId": "f1feaa94-6def-4bf6-edf9-84277a72f7d1",
    "scrolled": true
   },
   "outputs": [],
   "source": [
    "if analyse == \"followers\":\n",
    "    degree_weights = list(followers_graph.degree)\n",
    "    degree_weights = sorted(degree_weights, key=lambda x: x[1],reverse=True)\n",
    "    \n",
    "    for d in degree_weights:\n",
    "      if int(d[0]) in followers_statsdict.keys():\n",
    "          followers_statsdict[int(d[0])][\"in_degree\"] = d[1]\n",
    "\n",
    "    with open(base_path + \"Analysis/SNA/\" + version_id + \"/\" + version_id + '_followers_degree_list.txt', 'w') as f:\n",
    "        for d in degree_weights:\n",
    "            f.write(str(d[0]) + \" \" + str(d[1]) + \"\\n\")\n",
    "    pp.pprint(followers_statsdict)"
   ]
  },
  {
   "cell_type": "markdown",
   "metadata": {
    "colab_type": "text",
    "id": "bae57HitV08b"
   },
   "source": [
    "## Centrality metrics\n",
    "https://networkx.github.io/documentation/stable/reference/algorithms/centrality.html"
   ]
  },
  {
   "cell_type": "markdown",
   "metadata": {
    "colab_type": "text",
    "id": "KctjNbS-jPpi"
   },
   "source": [
    "### Degree Centrality"
   ]
  },
  {
   "cell_type": "code",
   "execution_count": null,
   "metadata": {
    "colab": {},
    "colab_type": "code",
    "id": "-QNOn4o9H3xn",
    "outputId": "6c8b6b80-b2a2-4fd7-c615-e99fec8f8257"
   },
   "outputs": [],
   "source": [
    "if analyse == \"followers\":\n",
    "  print(datetime.datetime.now())\n",
    "  d_centrality = nx.degree_centrality(followers_graph)\n",
    "  print(datetime.datetime.now())\n",
    "  \n",
    "  for key,value in d_centrality.items():\n",
    "    if int(key) in followers_statsdict.keys():\n",
    "      followers_statsdict[int(key)][\"degree_centrality\"] = float(value)\n",
    "  pp.pprint(followers_statsdict)"
   ]
  },
  {
   "cell_type": "markdown",
   "metadata": {
    "colab_type": "text",
    "id": "KLVj3sgjSosJ"
   },
   "source": [
    "### Betweeness Centrality"
   ]
  },
  {
   "cell_type": "code",
   "execution_count": null,
   "metadata": {
    "colab": {},
    "colab_type": "code",
    "id": "F65Xit4VB2Jo"
   },
   "outputs": [],
   "source": [
    "#if analyse == \"followers\":\n",
    "#  print(datetime.datetime.now())\n",
    "#  b_centrality = nx.betweenness_centrality(followers_graph)\n",
    "#  print(datetime.datetime.now())\n",
    "#  \n",
    "#  for key,value in b_centrality.items():\n",
    "#    if int(key) in followers_statsdict.keys():\n",
    "#      followers_statsdict[int(key)][\"betweenness_centrality\"] = float(value)  \n",
    "#  pp.pprint(followers_statsdict)"
   ]
  },
  {
   "cell_type": "markdown",
   "metadata": {
    "colab_type": "text",
    "id": "cDj_I3nXjRvM"
   },
   "source": [
    "### Eigenvector Centrality"
   ]
  },
  {
   "cell_type": "code",
   "execution_count": null,
   "metadata": {
    "colab": {},
    "colab_type": "code",
    "id": "yvv2pCX6I-R9",
    "outputId": "e9476445-7879-45c0-dd30-6b288e1b4761"
   },
   "outputs": [],
   "source": [
    "#if analyse == \"followers\":\n",
    "#  print(datetime.datetime.now())\n",
    "#  e_centrality = nx.eigenvector_centrality(followers_graph)\n",
    "#  #sorted(e_centrality.items(), key=lambda x: x[1],reverse=True)\n",
    "#  print(datetime.datetime.now())\n",
    "#\n",
    "#  for key,value in e_centrality.items():\n",
    "#    if int(key) in followers_statsdict.keys():\n",
    "#      followers_statsdict[int(key)][\"eigenvector_centrality\"] = float(value)\n",
    "#  pp.pprint(followers_statsdict)"
   ]
  },
  {
   "cell_type": "markdown",
   "metadata": {
    "colab_type": "text",
    "id": "4j6gjAyijWKK"
   },
   "source": [
    "### Follower Analysis Results"
   ]
  },
  {
   "cell_type": "code",
   "execution_count": null,
   "metadata": {
    "colab": {},
    "colab_type": "code",
    "id": "M1us_jG7bhn-",
    "outputId": "559bb539-3543-40ab-e1f9-815a13563c16"
   },
   "outputs": [],
   "source": [
    "if analyse == \"followers\":\n",
    "  startupsfollower_df = pd.DataFrame.from_dict(followers_statsdict, orient='index')\n",
    "  #startupsfollower_df.index.name = 'twitter_id'\n",
    "  startupsfollower_df.reset_index(level=0, inplace=True)\n",
    "  startupsfollower_df['in_degree'] = startupsfollower_df['in_degree'].fillna(0).astype(int)\n",
    "  print(startupsfollower_df[:10])"
   ]
  },
  {
   "cell_type": "code",
   "execution_count": null,
   "metadata": {
    "colab": {},
    "colab_type": "code",
    "id": "nzFsQJnYh9qI"
   },
   "outputs": [],
   "source": [
    "if analyse == \"followers\":\n",
    "  print(startupsfollower_df.shape)"
   ]
  },
  {
   "cell_type": "code",
   "execution_count": null,
   "metadata": {
    "colab": {},
    "colab_type": "code",
    "id": "H9XQTbhSTprO"
   },
   "outputs": [],
   "source": [
    "if analyse == \"followers\":\n",
    "  print(list(startupsfollower_df.columns.values))"
   ]
  },
  {
   "cell_type": "code",
   "execution_count": null,
   "metadata": {
    "colab": {},
    "colab_type": "code",
    "id": "qedhtHoTCBcq"
   },
   "outputs": [],
   "source": [
    "#if analyse == \"followers\":\n",
    "  #nx.draw(follower_graph, with_labels= True)\n",
    "  #plt.draw()\n",
    "  #plt.show()"
   ]
  },
  {
   "cell_type": "markdown",
   "metadata": {
    "colab_type": "text",
    "id": "n8HFiRKqkSwo"
   },
   "source": [
    "# Friends Analysis"
   ]
  },
  {
   "cell_type": "markdown",
   "metadata": {
    "colab_type": "text",
    "id": "dYZ0fPC9khGM"
   },
   "source": [
    "## Decide if we want to remove nodes under a certain degree"
   ]
  },
  {
   "cell_type": "markdown",
   "metadata": {
    "colab_type": "text",
    "id": "V4bMdNqoWcMJ"
   },
   "source": [
    "show removable nodes"
   ]
  },
  {
   "cell_type": "code",
   "execution_count": null,
   "metadata": {
    "colab": {},
    "colab_type": "code",
    "id": "Jj0yiXPZULLc"
   },
   "outputs": [],
   "source": [
    "if analyse == \"friends\":\n",
    "  #show removable ones\n",
    "  remove = [node for node,degree in friends_graph.degree() if degree < 0]\n",
    "  print(len(remove))\n",
    "  print(remove[:10])"
   ]
  },
  {
   "cell_type": "markdown",
   "metadata": {
    "colab_type": "text",
    "id": "5QxMePiEWsKm"
   },
   "source": [
    "remove nodes from graph"
   ]
  },
  {
   "cell_type": "code",
   "execution_count": null,
   "metadata": {
    "colab": {},
    "colab_type": "code",
    "id": "WxsuZXsjQYmV"
   },
   "outputs": [],
   "source": [
    "if analyse == \"friends\":\n",
    "  friends_graph.remove_nodes_from(remove)\n",
    "  friends_graph.degree()"
   ]
  },
  {
   "cell_type": "markdown",
   "metadata": {
    "colab_type": "text",
    "id": "lO6TiaMXWvtA"
   },
   "source": [
    "show current nodes"
   ]
  },
  {
   "cell_type": "code",
   "execution_count": null,
   "metadata": {
    "colab": {},
    "colab_type": "code",
    "id": "Ft8UI_vkULFb"
   },
   "outputs": [],
   "source": [
    "if analyse == \"friends\":\n",
    "  friends_graph.nodes()\n",
    "  print(\"we have \" + str(len(friends_graph.nodes())) + \" nodes left for analysis\")"
   ]
  },
  {
   "cell_type": "markdown",
   "metadata": {
    "colab_type": "text",
    "id": "sR9KOscMWz4l"
   },
   "source": [
    "## Analyse"
   ]
  },
  {
   "cell_type": "markdown",
   "metadata": {
    "colab_type": "text",
    "id": "CIztyYJ3kQz6"
   },
   "source": [
    "create a dictionary which will collect all the in_degree stats of the startups (i.e. the friends)"
   ]
  },
  {
   "cell_type": "code",
   "execution_count": null,
   "metadata": {
    "colab": {},
    "colab_type": "code",
    "id": "0cMUAAjy00kJ"
   },
   "outputs": [],
   "source": [
    "if analyse == \"friends\":\n",
    "  friends_statsdict = {}\n",
    "\n",
    "  for key,value in company2id.items():\n",
    "    friends_statsdict[key] = {}\n",
    "    friends_statsdict[key][\"company_name\"] = value"
   ]
  },
  {
   "cell_type": "markdown",
   "metadata": {
    "colab_type": "text",
    "id": "ktcZhAxTdxnI"
   },
   "source": [
    "### Degree"
   ]
  },
  {
   "cell_type": "markdown",
   "metadata": {
    "colab_type": "text",
    "id": "f_7gbY55OXIT"
   },
   "source": [
    "Total degree"
   ]
  },
  {
   "cell_type": "code",
   "execution_count": null,
   "metadata": {
    "colab": {},
    "colab_type": "code",
    "id": "n4hr43Smbpl5"
   },
   "outputs": [],
   "source": [
    "if analyse == \"friends\":\n",
    "    degree_weights = list(friends_graph.degree)\n",
    "    degree_weights = sorted(degree_weights, key=lambda x: x[1],reverse=True)\n",
    "    \n",
    "    for d in degree_weights:\n",
    "      if int(d[0]) in friends_statsdict.keys():\n",
    "          friends_statsdict[int(d[0])][\"out_degree\"] = d[1]\n",
    "\n",
    "    with open(base_path + \"Analysis/SNA/\" + version_id + \"/\" + version_id + '_friends_degree_list.txt', 'w') as f:\n",
    "        for d in degree_weights:\n",
    "            f.write(str(d[0]) + \" \" + str(d[1]) + \"\\n\")\n",
    "    pp.pprint(friends_statsdict)"
   ]
  },
  {
   "cell_type": "markdown",
   "metadata": {
    "colab_type": "text",
    "id": "gL_qSU-BV080"
   },
   "source": [
    "## Centrality metrics\n",
    "https://networkx.github.io/documentation/stable/reference/algorithms/centrality.html"
   ]
  },
  {
   "cell_type": "markdown",
   "metadata": {
    "colab_type": "text",
    "id": "R1a4JwYCjeb4"
   },
   "source": [
    "### Degree Centrality"
   ]
  },
  {
   "cell_type": "code",
   "execution_count": null,
   "metadata": {
    "colab": {},
    "colab_type": "code",
    "id": "L1efb0tHUK3F"
   },
   "outputs": [],
   "source": [
    "if analyse == \"friends\":\n",
    "  d_centrality = nx.degree_centrality(friends_graph)\n",
    "\n",
    "  for key,value in d_centrality.items():\n",
    "    if int(key) in friends_statsdict.keys():\n",
    "      friends_statsdict[int(key)][\"degree_centrality\"] = float(value)    \n",
    "  pp.pprint(friends_statsdict)"
   ]
  },
  {
   "cell_type": "markdown",
   "metadata": {
    "colab_type": "text",
    "id": "yxJ15JCxjdIe"
   },
   "source": [
    "### Betweeness Centrality"
   ]
  },
  {
   "cell_type": "code",
   "execution_count": null,
   "metadata": {
    "colab": {},
    "colab_type": "code",
    "id": "g1OHm6kUULCq"
   },
   "outputs": [],
   "source": [
    "#if analyse == \"friends\":\n",
    "#  b_centrality = nx.betweenness_centrality(friends_graph)\n",
    "#\n",
    "#  for key,value in b_centrality.items():\n",
    "#    if int(key) in friends_statsdict.keys():\n",
    "#      friends_statsdict[int(key)][\"betweenness_centrality\"] = float(value)\n",
    "#  pp.pprint(friends_statsdict)"
   ]
  },
  {
   "cell_type": "markdown",
   "metadata": {
    "colab_type": "text",
    "id": "q818Eo9Sjfyw"
   },
   "source": [
    "### Eigenvector Centrality"
   ]
  },
  {
   "cell_type": "code",
   "execution_count": null,
   "metadata": {
    "colab": {},
    "colab_type": "code",
    "id": "Le85E09AUKqo"
   },
   "outputs": [],
   "source": [
    "#if analyse == \"friends\":\n",
    "#  print(datetime.datetime.now())\n",
    "#  e_centrality = nx.eigenvector_centrality(friends_graph)\n",
    "#  #sorted(e_centrality.items(), key=lambda x: x[1],reverse=True)\n",
    "#  print(datetime.datetime.now())\n",
    "#\n",
    "#  for key,value in e_centrality.items():\n",
    "#    if int(key) in friends_statsdict.keys():\n",
    "#      friends_statsdict[int(key)][\"eigenvector_centrality\"] = float(value)\n",
    "#  pp.pprint(friends_statsdict)"
   ]
  },
  {
   "cell_type": "markdown",
   "metadata": {
    "colab_type": "text",
    "id": "oTtHssHzkAkT"
   },
   "source": [
    "### Friends Analysis Results"
   ]
  },
  {
   "cell_type": "code",
   "execution_count": null,
   "metadata": {
    "colab": {},
    "colab_type": "code",
    "id": "yFMtfC_mj039"
   },
   "outputs": [],
   "source": [
    "if analyse == \"friends\":\n",
    "  startupsfriends_df = pd.DataFrame.from_dict(friends_statsdict, orient='index')\n",
    "  startupsfriends_df.reset_index(level=0, inplace=True)\n",
    "  startupsfriends_df['out_degree'] = startupsfriends_df['out_degree'].fillna(0).astype(int)\n",
    "  print(startupsfriends_df[:10])"
   ]
  },
  {
   "cell_type": "code",
   "execution_count": null,
   "metadata": {
    "colab": {},
    "colab_type": "code",
    "id": "PhzGNLZriLkb"
   },
   "outputs": [],
   "source": [
    "if analyse == \"friends\":\n",
    "  print(startupsfriends_df.shape)"
   ]
  },
  {
   "cell_type": "code",
   "execution_count": null,
   "metadata": {
    "colab": {},
    "colab_type": "code",
    "id": "C_RApchAj04M"
   },
   "outputs": [],
   "source": [
    "if analyse == \"friends\":\n",
    "  print(list(startupsfriends_df.columns.values))"
   ]
  },
  {
   "cell_type": "code",
   "execution_count": null,
   "metadata": {
    "colab": {},
    "colab_type": "code",
    "id": "WPuBNVaFUjAA"
   },
   "outputs": [],
   "source": [
    "#if analyse == \"friends\":\n",
    "  #nx.draw(friends_graph, with_labels= True)\n",
    "  #plt.draw()\n",
    "  #plt.show()"
   ]
  },
  {
   "cell_type": "markdown",
   "metadata": {
    "colab_type": "text",
    "id": "9ORsvl-_kYNA"
   },
   "source": [
    "# Follower & Friends Analysis"
   ]
  },
  {
   "cell_type": "markdown",
   "metadata": {
    "colab_type": "text",
    "id": "VHbKNOEpw3BV"
   },
   "source": [
    "## Decide if we want to remove nodes under a certain degree"
   ]
  },
  {
   "cell_type": "markdown",
   "metadata": {
    "colab_type": "text",
    "id": "3YnA0nqBYhIg"
   },
   "source": [
    "show removable nodes"
   ]
  },
  {
   "cell_type": "code",
   "execution_count": null,
   "metadata": {
    "colab": {},
    "colab_type": "code",
    "id": "7dsf9DFrUsHy"
   },
   "outputs": [],
   "source": [
    "if analyse == \"fnf\":\n",
    "  remove = [node for node,degree in fnf_graph.degree() if degree < 0]\n",
    "  print(len(remove))\n",
    "  print(remove[:10])"
   ]
  },
  {
   "cell_type": "markdown",
   "metadata": {
    "colab_type": "text",
    "id": "Hue3u2hyYkOA"
   },
   "source": [
    "\n",
    "remove nodes from graph"
   ]
  },
  {
   "cell_type": "code",
   "execution_count": null,
   "metadata": {
    "colab": {},
    "colab_type": "code",
    "id": "pw6r2-k2UsE0"
   },
   "outputs": [],
   "source": [
    "if analyse == \"fnf\":\n",
    "  fnf_graph.remove_nodes_from(remove)\n",
    "  fnf_graph.degree()"
   ]
  },
  {
   "cell_type": "markdown",
   "metadata": {
    "colab_type": "text",
    "id": "1aOdWlrsYmoR"
   },
   "source": [
    "show current nodes"
   ]
  },
  {
   "cell_type": "code",
   "execution_count": null,
   "metadata": {
    "colab": {},
    "colab_type": "code",
    "id": "w265VXVZUsBu"
   },
   "outputs": [],
   "source": [
    "if analyse == \"fnf\":\n",
    "  fnf_graph.nodes()\n",
    "  print(\"we have \" + str(len(fnf_graph.nodes())) + \" nodes left for analysis\")"
   ]
  },
  {
   "cell_type": "markdown",
   "metadata": {
    "colab_type": "text",
    "id": "xl6S7k0ew8X-"
   },
   "source": [
    "## Analyse"
   ]
  },
  {
   "cell_type": "markdown",
   "metadata": {
    "colab_type": "text",
    "id": "TOpNQfFYeVti"
   },
   "source": [
    "create a dictionary which will collect all the in_degree and out_degree stats of the startups (i.e. the followers and friends)\n",
    "\n"
   ]
  },
  {
   "cell_type": "code",
   "execution_count": null,
   "metadata": {
    "colab": {},
    "colab_type": "code",
    "id": "Im0ws-iOxvrN"
   },
   "outputs": [],
   "source": [
    "if analyse == \"fnf\":\n",
    "  fnf_statsdict = {}\n",
    "\n",
    "  for key,value in company2id.items():\n",
    "    fnf_statsdict[key] = {}\n",
    "    fnf_statsdict[key][\"company_name\"] = value"
   ]
  },
  {
   "cell_type": "markdown",
   "metadata": {
    "colab_type": "text",
    "id": "cayj6HBfd80N"
   },
   "source": [
    "### Degree"
   ]
  },
  {
   "cell_type": "markdown",
   "metadata": {
    "colab_type": "text",
    "id": "Cqe1gH4dOlHM"
   },
   "source": [
    "Total degree"
   ]
  },
  {
   "cell_type": "code",
   "execution_count": null,
   "metadata": {
    "colab": {},
    "colab_type": "code",
    "id": "uJVvrjQCbPk8"
   },
   "outputs": [],
   "source": [
    "if analyse == \"fnf\":\n",
    "    degree_weights = list(fnf_graph.degree)\n",
    "    degree_weights = sorted(degree_weights, key=lambda x: x[1],reverse=True)\n",
    "    \n",
    "    for d in degree_weights:\n",
    "      if int(d[0]) in fnf_statsdict.keys():\n",
    "          fnf_statsdict[int(d[0])][\"degree\"] = d[1]\n",
    "\n",
    "    with open(base_path + \"Analysis/SNA/\" + version_id + \"/\" + version_id + '_fnf_degree_list.txt', 'w') as f:\n",
    "        for d in degree_weights:\n",
    "            f.write(str(d[0]) + \" \" + str(d[1]) + \"\\n\")\n",
    "    pp.pprint(fnf_statsdict)"
   ]
  },
  {
   "cell_type": "markdown",
   "metadata": {
    "colab_type": "text",
    "id": "rBKKH4qvV09I"
   },
   "source": [
    "## Centrality metrics\n",
    "https://networkx.github.io/documentation/stable/reference/algorithms/centrality.html"
   ]
  },
  {
   "cell_type": "markdown",
   "metadata": {
    "colab_type": "text",
    "id": "SYSCm9TlxYiB"
   },
   "source": [
    "### Degree Centrality"
   ]
  },
  {
   "cell_type": "code",
   "execution_count": null,
   "metadata": {
    "colab": {},
    "colab_type": "code",
    "id": "4UQ_ZvRzH5t7"
   },
   "outputs": [],
   "source": [
    "if analyse == \"fnf\":\n",
    "  print(datetime.datetime.now())\n",
    "  d_centrality = nx.degree_centrality(fnf_graph)\n",
    "  print(datetime.datetime.now())\n",
    "  \n",
    "  for key,value in d_centrality.items():\n",
    "    if int(key) in fnf_statsdict.keys():\n",
    "      fnf_statsdict[int(key)][\"degree_centrality\"] = float(value)\n",
    "  pp.pprint(fnf_statsdict)"
   ]
  },
  {
   "cell_type": "markdown",
   "metadata": {
    "colab_type": "text",
    "id": "q-yg37_-xWTl"
   },
   "source": [
    "### Betweeness Centrality"
   ]
  },
  {
   "cell_type": "code",
   "execution_count": null,
   "metadata": {
    "colab": {},
    "colab_type": "code",
    "id": "MypqXyuyUr-l"
   },
   "outputs": [],
   "source": [
    "#if analyse == \"fnf\":\n",
    "#  print(datetime.datetime.now())\n",
    "#  b_centrality = nx.betweenness_centrality(fnf_graph)\n",
    "#  print(datetime.datetime.now())\n",
    "#  \n",
    "#  for key,value in b_centrality.items():\n",
    "#    if int(key) in fnf_statsdict.keys():\n",
    "#      fnf_statsdict[int(key)][\"betweenness_centrality\"] = float(value)  \n",
    "#  pp.pprint(fnf_statsdict)"
   ]
  },
  {
   "cell_type": "markdown",
   "metadata": {
    "colab_type": "text",
    "id": "7G5AvgRsxgBZ"
   },
   "source": [
    "### Eigenvector Centrality"
   ]
  },
  {
   "cell_type": "code",
   "execution_count": null,
   "metadata": {
    "colab": {},
    "colab_type": "code",
    "id": "9XfcFBTLUr1V"
   },
   "outputs": [],
   "source": [
    "#if analyse == \"fnf\":\n",
    "#  print(datetime.datetime.now())\n",
    "#  e_centrality = nx.eigenvector_centrality(fnf_graph)\n",
    "#  #sorted(e_centrality.items(), key=lambda x: x[1],reverse=True)\n",
    "#  print(datetime.datetime.now())\n",
    "#\n",
    "#  for key,value in e_centrality.items():\n",
    "#    if int(key) in fnf_statsdict.keys():\n",
    "#      fnf_statsdict[int(key)][\"eigenvector_centrality\"] = float(value)   \n",
    "#  pp.pprint(fnf_statsdict)"
   ]
  },
  {
   "cell_type": "markdown",
   "metadata": {
    "colab_type": "text",
    "id": "DMTJuXKBxj5o"
   },
   "source": [
    "### Follower and Friends Analysis Results"
   ]
  },
  {
   "cell_type": "code",
   "execution_count": null,
   "metadata": {
    "colab": {},
    "colab_type": "code",
    "id": "VQwsTWJfUMby"
   },
   "outputs": [],
   "source": [
    "if analyse == \"fnf\":\n",
    "  fnf_df = pd.DataFrame.from_dict(fnf_statsdict, orient='index')\n",
    "  fnf_df.reset_index(level=0, inplace=True)\n",
    "  fnf_df['degree'] = fnf_df['degree'].fillna(0).astype(int)\n",
    "  print(fnf_df[:10])"
   ]
  },
  {
   "cell_type": "code",
   "execution_count": null,
   "metadata": {
    "colab": {},
    "colab_type": "code",
    "id": "5Yi1vY74iIyy"
   },
   "outputs": [],
   "source": [
    "if analyse == \"fnf\":\n",
    "  print(fnf_df.shape)"
   ]
  },
  {
   "cell_type": "code",
   "execution_count": null,
   "metadata": {
    "colab": {},
    "colab_type": "code",
    "id": "mwm6-Lm8fKRo"
   },
   "outputs": [],
   "source": [
    "if analyse == \"fnf\":\n",
    "  print(list(fnf_df.columns.values))"
   ]
  },
  {
   "cell_type": "code",
   "execution_count": null,
   "metadata": {
    "colab": {},
    "colab_type": "code",
    "id": "MW5uTotvUrqy"
   },
   "outputs": [],
   "source": [
    "#if analyse == \"fnf\":\n",
    "  #nx.draw(fnf_graph, with_labels= True)\n",
    "  #plt.draw()\n",
    "  #plt.show()"
   ]
  },
  {
   "cell_type": "markdown",
   "metadata": {
    "colab_type": "text",
    "id": "5hDp3vucHyOc"
   },
   "source": [
    "# Bi_directed_edge Graph"
   ]
  },
  {
   "cell_type": "markdown",
   "metadata": {
    "colab_type": "text",
    "id": "zBcvwHLUHyOg"
   },
   "source": [
    "## Decide if we want to remove nodes under a certain degree"
   ]
  },
  {
   "cell_type": "markdown",
   "metadata": {
    "colab_type": "text",
    "id": "f_yeofNlHyOg"
   },
   "source": [
    "show removable nodes"
   ]
  },
  {
   "cell_type": "code",
   "execution_count": null,
   "metadata": {
    "colab": {},
    "colab_type": "code",
    "id": "n1lpQ_REHyOh"
   },
   "outputs": [],
   "source": [
    "if analyse == \"bi_direct\":\n",
    "  #show removable ones\n",
    "  remove = [node for node,degree in bi_direct_graph.degree() if degree < 0]\n",
    "  print(len(remove))\n",
    "  print(remove[:10])"
   ]
  },
  {
   "cell_type": "markdown",
   "metadata": {
    "colab_type": "text",
    "id": "wghxhMTeHyOj"
   },
   "source": [
    "remove nodes from graph and show current nodes"
   ]
  },
  {
   "cell_type": "code",
   "execution_count": null,
   "metadata": {
    "colab": {},
    "colab_type": "code",
    "id": "5dFRVvrZHyOm"
   },
   "outputs": [],
   "source": [
    "if analyse == \"bi_direct\":\n",
    "  bi_direct_graph.remove_nodes_from(remove)\n",
    "  bi_direct_graph.degree()\n",
    "  bi_direct_graph.nodes()\n",
    "  print(\"we have \" + str(len(bi_direct_graph.nodes())) + \" nodes left for analysis\")"
   ]
  },
  {
   "cell_type": "markdown",
   "metadata": {
    "colab_type": "text",
    "id": "KgW71rdsHyOu"
   },
   "source": [
    "## Analyse"
   ]
  },
  {
   "cell_type": "markdown",
   "metadata": {
    "colab_type": "text",
    "id": "btO-wJdIHyOu"
   },
   "source": [
    "create a dictionary which will collect all the in_degree stats of the startups (i.e. the friends)"
   ]
  },
  {
   "cell_type": "code",
   "execution_count": null,
   "metadata": {
    "colab": {},
    "colab_type": "code",
    "id": "hoIFfQCKHyOv"
   },
   "outputs": [],
   "source": [
    "if analyse == \"bi_direct\":\n",
    "  bi_direct_statsdict = {}\n",
    "\n",
    "  for key,value in company2id.items():\n",
    "    bi_direct_statsdict[key] = {}\n",
    "    bi_direct_statsdict[key][\"company_name\"] = value"
   ]
  },
  {
   "cell_type": "markdown",
   "metadata": {
    "colab_type": "text",
    "id": "4yFUctMmHyOw"
   },
   "source": [
    "### Degree"
   ]
  },
  {
   "cell_type": "markdown",
   "metadata": {
    "colab_type": "text",
    "id": "hoTyS48LRvTv"
   },
   "source": [
    "Total Degree"
   ]
  },
  {
   "cell_type": "code",
   "execution_count": null,
   "metadata": {
    "colab": {},
    "colab_type": "code",
    "id": "-5PNbze_S8wH"
   },
   "outputs": [],
   "source": [
    "if analyse == \"bi_direct\":\n",
    "    degree_weights = list(bi_direct_graph.degree)\n",
    "    degree_weights = sorted(degree_weights, key=lambda x: x[1],reverse=True)\n",
    "    \n",
    "    for d in degree_weights:\n",
    "      if int(d[0]) in bi_direct_statsdict.keys():\n",
    "          bi_direct_statsdict[int(d[0])][\"degree\"] = d[1]\n",
    "\n",
    "    with open(base_path + \"Analysis/SNA/\" + version_id + \"/\" + version_id + '_bi_direct_degree_list.txt', 'w') as f:\n",
    "        for d in degree_weights:\n",
    "            f.write(str(d[0]) + \" \" + str(d[1]) + \"\\n\")\n",
    "    pp.pprint(bi_direct_statsdict)"
   ]
  },
  {
   "cell_type": "markdown",
   "metadata": {
    "colab_type": "text",
    "id": "fX7fErv7HyO1"
   },
   "source": [
    "## Centrality metrics\n",
    "https://networkx.github.io/documentation/stable/reference/algorithms/centrality.html"
   ]
  },
  {
   "cell_type": "markdown",
   "metadata": {
    "colab_type": "text",
    "id": "GpSLnAYvHyO3"
   },
   "source": [
    "### Degree Centrality"
   ]
  },
  {
   "cell_type": "code",
   "execution_count": null,
   "metadata": {
    "colab": {},
    "colab_type": "code",
    "id": "FFcAtX70HyO4"
   },
   "outputs": [],
   "source": [
    "if analyse == \"bi_direct\":\n",
    "  d_centrality = nx.degree_centrality(bi_direct_graph)\n",
    "\n",
    "  for key,value in d_centrality.items():\n",
    "    if int(key) in bi_direct_statsdict.keys():\n",
    "      bi_direct_statsdict[int(key)][\"degree_centrality\"] = float(value)\n",
    "  pp.pprint(bi_direct_statsdict)"
   ]
  },
  {
   "cell_type": "markdown",
   "metadata": {
    "colab_type": "text",
    "id": "2mLnVibQHyO1"
   },
   "source": [
    "### Betweeness Centrality"
   ]
  },
  {
   "cell_type": "code",
   "execution_count": null,
   "metadata": {
    "colab": {},
    "colab_type": "code",
    "id": "_zFTRVXtHyO2"
   },
   "outputs": [],
   "source": [
    "#if analyse == \"bi_direct\":\n",
    "#  b_centrality = nx.betweenness_centrality(bi_direct_graph)\n",
    "#\n",
    "#  for key,value in b_centrality.items():\n",
    "#    if int(key) in bi_direct_statsdict.keys():\n",
    "#      bi_direct_statsdict[int(key)][\"b_centrality\"] = float(value)\n",
    "#  pp.pprint(bi_direct_statsdict)"
   ]
  },
  {
   "cell_type": "markdown",
   "metadata": {
    "colab_type": "text",
    "id": "im96I0P2HyO5"
   },
   "source": [
    "### Eigenvector Centrality"
   ]
  },
  {
   "cell_type": "code",
   "execution_count": null,
   "metadata": {
    "colab": {},
    "colab_type": "code",
    "id": "ZESA-imVHyO5"
   },
   "outputs": [],
   "source": [
    "#if analyse == \"bi_direct\":\n",
    "#  print(datetime.datetime.now())\n",
    "#  e_centrality = nx.eigenvector_centrality(bi_direct_graph)\n",
    "#  #sorted(e_centrality.items(), key=lambda x: x[1],reverse=True)\n",
    "#  print(datetime.datetime.now())\n",
    "#\n",
    "#  for key,value in e_centrality.items():\n",
    "#    if int(key) in bi_direct_statsdict.keys():\n",
    "#      bi_direct_statsdict[int(key)][\"e_centrality\"] = float(value)\n",
    "#  pp.pprint(bi_direct_statsdict)"
   ]
  },
  {
   "cell_type": "markdown",
   "metadata": {
    "colab_type": "text",
    "id": "ty2Bm8LrHyO7"
   },
   "source": [
    "### bi_direct_fnf Analysis Results"
   ]
  },
  {
   "cell_type": "code",
   "execution_count": null,
   "metadata": {
    "colab": {},
    "colab_type": "code",
    "id": "byIMNngBHyO8"
   },
   "outputs": [],
   "source": [
    "if analyse == \"bi_direct\":\n",
    "  bi_direct_df = pd.DataFrame.from_dict(bi_direct_statsdict, orient='index')\n",
    "  bi_direct_df.reset_index(level=0, inplace=True)\n",
    "  bi_direct_df['degree'] = bi_direct_df['degree'].fillna(0).astype(int)\n",
    "  print(bi_direct_df[:10])"
   ]
  },
  {
   "cell_type": "code",
   "execution_count": null,
   "metadata": {
    "colab": {},
    "colab_type": "code",
    "id": "xQK5iMv-HyO9"
   },
   "outputs": [],
   "source": [
    "if analyse == \"bi_direct\":\n",
    "  print(bi_direct_df.shape)"
   ]
  },
  {
   "cell_type": "code",
   "execution_count": null,
   "metadata": {
    "colab": {},
    "colab_type": "code",
    "id": "m9hzI8S0HyO-"
   },
   "outputs": [],
   "source": [
    "if analyse == \"bi_direct\":\n",
    "  print(list(bi_direct_df.columns.values))"
   ]
  },
  {
   "cell_type": "code",
   "execution_count": null,
   "metadata": {
    "colab": {},
    "colab_type": "code",
    "id": "KMKvWxNyHyPA"
   },
   "outputs": [],
   "source": [
    "#if analyse == \"bi_direct_fn\"f:\n",
    "  #nx.draw(bi_direct_graph, with_labels= True)\n",
    "  #plt.draw()\n",
    "  #plt.show()"
   ]
  },
  {
   "cell_type": "markdown",
   "metadata": {
    "colab_type": "text",
    "id": "Dy63sMOmaqow"
   },
   "source": [
    "# Weigted Bi_directed_edge Graph"
   ]
  },
  {
   "cell_type": "markdown",
   "metadata": {
    "colab_type": "text",
    "id": "akHwn0CUaqox"
   },
   "source": [
    "## Decide if we want to remove nodes under a certain degree"
   ]
  },
  {
   "cell_type": "markdown",
   "metadata": {
    "colab_type": "text",
    "id": "-C4qCsSlaqoy"
   },
   "source": [
    "show removable nodes"
   ]
  },
  {
   "cell_type": "code",
   "execution_count": null,
   "metadata": {
    "colab": {},
    "colab_type": "code",
    "id": "1ax_W4ELaqoz"
   },
   "outputs": [],
   "source": [
    "if analyse == \"weighted_bi_direct\":\n",
    "  #show removable ones\n",
    "  remove = [node for node,degree in weighted_bi_direct_graph.degree() if degree < 0]\n",
    "  print(len(remove))\n",
    "  print(remove[:10])"
   ]
  },
  {
   "cell_type": "markdown",
   "metadata": {
    "colab_type": "text",
    "id": "33Hbu_Eoaqo3"
   },
   "source": [
    "remove nodes from graph and show current nodes"
   ]
  },
  {
   "cell_type": "code",
   "execution_count": null,
   "metadata": {
    "colab": {},
    "colab_type": "code",
    "id": "awNKy7uXaqo4"
   },
   "outputs": [],
   "source": [
    "if analyse == \"weighted_bi_direct\":\n",
    "  weighted_bi_direct_graph.remove_nodes_from(remove)\n",
    "  weighted_bi_direct_graph.degree()\n",
    "  weighted_bi_direct_graph.nodes()\n",
    "  print(\"we have \" + str(len(weighted_bi_direct_graph.nodes())) + \" nodes left for analysis\")"
   ]
  },
  {
   "cell_type": "markdown",
   "metadata": {
    "colab_type": "text",
    "id": "ZjsPIiXdaqpB"
   },
   "source": [
    "## Analyse"
   ]
  },
  {
   "cell_type": "markdown",
   "metadata": {
    "colab_type": "text",
    "id": "adSJbewnaqpC"
   },
   "source": [
    "create a dictionary which will collect all the in_degree stats of the startups (i.e. the friends)"
   ]
  },
  {
   "cell_type": "code",
   "execution_count": null,
   "metadata": {
    "colab": {},
    "colab_type": "code",
    "id": "4v3T3TdFaqpD"
   },
   "outputs": [],
   "source": [
    "if analyse == \"weighted_bi_direct\":\n",
    "  weighted_bi_direct_statsdict = {}\n",
    "\n",
    "  for key,value in company2id.items():\n",
    "    weighted_bi_direct_statsdict[key] = {}\n",
    "    weighted_bi_direct_statsdict[key][\"company_name\"] = value"
   ]
  },
  {
   "cell_type": "markdown",
   "metadata": {
    "colab_type": "text",
    "id": "ASOKgapoMAW9"
   },
   "source": [
    "##Degree"
   ]
  },
  {
   "cell_type": "code",
   "execution_count": null,
   "metadata": {
    "colab": {},
    "colab_type": "code",
    "id": "i-NvZ6QyaViY"
   },
   "outputs": [],
   "source": [
    "if analyse == \"weighted_bi_direct\":\n",
    "    degree_weights = list(weighted_bi_direct_graph.degree(weight='weight'))\n",
    "    degree_weights = sorted(degree_weights, key=lambda x: x[1],reverse=True)\n",
    "    \n",
    "    for d in degree_weights:\n",
    "      if int(d[0]) in weighted_bi_direct_statsdict.keys():\n",
    "          weighted_bi_direct_statsdict[int(d[0])][\"weighted_degree\"] = d[1]\n",
    "\n",
    "    with open(base_path + \"Analysis/SNA/\" + version_id + \"/\" + version_id + '_weighted_bi_direct_degree_list.txt', 'w') as f:\n",
    "        for d in degree_weights:\n",
    "            f.write(str(d[0]) + \" \" + str(d[1]) + \"\\n\")\n",
    "    pp.pprint(weighted_bi_direct_statsdict)"
   ]
  },
  {
   "cell_type": "markdown",
   "metadata": {
    "colab_type": "text",
    "id": "G-ppmaPgaqpR"
   },
   "source": [
    "## Centrality metrics\n",
    "https://networkx.github.io/documentation/stable/reference/algorithms/centrality.html"
   ]
  },
  {
   "cell_type": "markdown",
   "metadata": {
    "colab_type": "text",
    "id": "4H2or8t1aqpS"
   },
   "source": [
    "### Degree Centrality"
   ]
  },
  {
   "cell_type": "code",
   "execution_count": null,
   "metadata": {
    "colab": {},
    "colab_type": "code",
    "id": "PZrD914LaVib"
   },
   "outputs": [],
   "source": [
    "if analyse == \"weighted_bi_direct\":\n",
    "    total_weighted = weighted_bi_direct_graph.size(weight='weight')\n",
    "    degree_weights = list(weighted_bi_direct_graph.degree)\n",
    "    weighted_degree_centrality_list = []\n",
    "    for node in degree_weights:\n",
    "        #print(\"node[1]\", node[1],\"total_weighted\", total_weighted)\n",
    "        degree_centrality = node[1] / total_weighted\n",
    "        weighted_degree_centrality_list.append([node[0],degree_centrality])\n",
    "    print(weighted_degree_centrality_list[:20])\n",
    "    \n",
    "    for company in weighted_degree_centrality_list:\n",
    "        if int(company[0]) in weighted_bi_direct_statsdict.keys():\n",
    "            weighted_bi_direct_statsdict[int(company[0])][\"degree_centrality\"] = company[1]\n",
    "    pp.pprint(weighted_bi_direct_statsdict)"
   ]
  },
  {
   "cell_type": "code",
   "execution_count": null,
   "metadata": {
    "colab": {},
    "colab_type": "code",
    "id": "99OYwCMcaqpW"
   },
   "outputs": [],
   "source": [
    "#if analyse == \"weighted_bi_direct\":\n",
    "#  d_centrality = nx.degree_centrality(weighted_bi_direct_graph)\n",
    "\n",
    "#  for key,value in d_centrality.items():\n",
    "#    if int(key) in weighted_bi_direct_statsdict.keys():\n",
    "#      weighted_bi_direct_statsdict[int(key)][\"degree_centrality\"] = float(value)    "
   ]
  },
  {
   "cell_type": "markdown",
   "metadata": {
    "colab_type": "text",
    "id": "IWAncSXIaqpY"
   },
   "source": [
    "### Betweeness Centrality"
   ]
  },
  {
   "cell_type": "code",
   "execution_count": null,
   "metadata": {
    "colab": {},
    "colab_type": "code",
    "id": "C5t4T4FdaqpZ"
   },
   "outputs": [],
   "source": [
    "#if analyse == \"weighted_bi_direct\":\n",
    "#  print(datetime.datetime.now())\n",
    "#  b_centrality = nx.betweenness_centrality(weighted_bi_direct_graph, weight='weight')\n",
    "#  print(datetime.datetime.now())\n",
    "#  \n",
    "#  for key,value in b_centrality.items():\n",
    "#    if int(key) in weighted_bi_direct_statsdict.keys():\n",
    "#      weighted_bi_direct_statsdict[int(key)][\"b_centrality\"] = float(value)\n",
    "#  pp.pprint(weighted_bi_direct_statsdict)"
   ]
  },
  {
   "cell_type": "code",
   "execution_count": null,
   "metadata": {
    "colab": {},
    "colab_type": "code",
    "id": "o4ffJo1TMjZ6"
   },
   "outputs": [],
   "source": [
    "#if analyse == \"weighted_bi_direct\":\n",
    "#    print(b_centrality)"
   ]
  },
  {
   "cell_type": "markdown",
   "metadata": {
    "colab_type": "text",
    "id": "s3eiWmJDaqpc"
   },
   "source": [
    "### Eigenvector Centrality"
   ]
  },
  {
   "cell_type": "code",
   "execution_count": null,
   "metadata": {
    "colab": {},
    "colab_type": "code",
    "id": "V2rgUWkwaqpd"
   },
   "outputs": [],
   "source": [
    "#if analyse == \"weighted_bi_direct\":\n",
    "#  print(datetime.datetime.now())\n",
    "#  e_centrality = nx.eigenvector_centrality(weighted_bi_direct_graph, weight='weight')\n",
    "#  #sorted(e_centrality.items(), key=lambda x: x[1],reverse=True)\n",
    "#  print(datetime.datetime.now())\n",
    "#\n",
    "#  for key,value in e_centrality.items():\n",
    "#    if int(key) in weighted_bi_direct_statsdict.keys():\n",
    "#      weighted_bi_direct_statsdict[int(key)][\"e_centrality\"] = float(value)\n",
    "#  pp.pprint(weighted_bi_direct_statsdict)"
   ]
  },
  {
   "cell_type": "markdown",
   "metadata": {
    "colab_type": "text",
    "id": "UnYnh72Laqpg"
   },
   "source": [
    "### bi_direct_fnf Analysis Results"
   ]
  },
  {
   "cell_type": "code",
   "execution_count": null,
   "metadata": {
    "colab": {},
    "colab_type": "code",
    "id": "ZbD0ITT_aqph"
   },
   "outputs": [],
   "source": [
    "if analyse == \"weighted_bi_direct\":\n",
    "  weighted_bi_direct_df = pd.DataFrame.from_dict(weighted_bi_direct_statsdict, orient='index')\n",
    "  weighted_bi_direct_df.reset_index(level=0, inplace=True)\n",
    "  weighted_bi_direct_df['weighted_degree'] = weighted_bi_direct_df['weighted_degree'].fillna(0).astype(int)\n",
    "  weighted_bi_direct_df['weighted_degree_centrality'] = weighted_bi_direct_df['weighted_degree_centrality'].fillna(0).astype(float)\n",
    "  print(weighted_bi_direct_df[:10])"
   ]
  },
  {
   "cell_type": "code",
   "execution_count": null,
   "metadata": {
    "colab": {},
    "colab_type": "code",
    "id": "XbgR0YK3aqpj"
   },
   "outputs": [],
   "source": [
    "if analyse == \"weighted_bi_direct\":\n",
    "  print(weighted_bi_direct_df.shape)"
   ]
  },
  {
   "cell_type": "code",
   "execution_count": null,
   "metadata": {
    "colab": {},
    "colab_type": "code",
    "id": "p95VgBLKaqpk"
   },
   "outputs": [],
   "source": [
    "if analyse == \"weighted_bi_direct\":\n",
    "  print(list(weighted_bi_direct_df.columns.values))"
   ]
  },
  {
   "cell_type": "code",
   "execution_count": null,
   "metadata": {
    "colab": {},
    "colab_type": "code",
    "id": "e6zJLdwXaqpm"
   },
   "outputs": [],
   "source": [
    "#if analyse == \"weighted_bi_direct\"f:\n",
    "  #nx.draw(bi_direct_graph, with_labels= True)\n",
    "  #plt.draw()\n",
    "  #plt.show()"
   ]
  },
  {
   "cell_type": "markdown",
   "metadata": {
    "colab_type": "text",
    "id": "Ht_CUTVRf35A"
   },
   "source": [
    "# Save results"
   ]
  },
  {
   "cell_type": "code",
   "execution_count": null,
   "metadata": {
    "colab": {},
    "colab_type": "code",
    "id": "yP3CiAeAgwuz"
   },
   "outputs": [],
   "source": [
    "#write the analysis dataframe to .xlsx file\n",
    "if analyse == \"followers\":\n",
    "  with pd.ExcelWriter(base_path + \"Analysis/SNA/\" + version_id + \"/\" + version_id + '_startupsfollowers.xlsx') as writer:\n",
    "    startupsfollower_df.to_excel(writer, sheet_name= version_id + \"_startupsfollower_df\", index=False)\n",
    "    print(\"startupsfollower_df saved to \" + base_path + \"Analysis/SNA/\" + version_id + \" as \" + version_id + '_startupsfollower.xlsx')\n",
    "    \n",
    "#write the analysis dataframe to .xlsx file\n",
    "elif analyse == \"friends\":\n",
    "  with pd.ExcelWriter(base_path + \"Analysis/SNA/\" + version_id + \"/\" + version_id + '_startupsfriends.xlsx') as writer:\n",
    "    startupsfriends_df.to_excel(writer, sheet_name= version_id + \"_startupsfriends_df\", index=False) \n",
    "    print(\"startupsfriends_df saved to \"  + base_path + \"Analysis/SNA/\" + version_id + \" as \" + version_id + '_startupsfriends.xlsx')\n",
    "    \n",
    "#write the analysis dataframe to .xlsx file\n",
    "elif analyse == \"fnf\":\n",
    "  with pd.ExcelWriter(base_path + \"Analysis/SNA/\" + version_id + \"/\" + version_id  + '_startupsfnf.xlsx') as writer:\n",
    "    fnf_df.to_excel(writer, sheet_name= version_id + \"_fnf_df\", index=False)\n",
    "    print(\"fnf_df saved to \" + base_path + \"Analysis/SNA/\" + version_id + \" as \" + version_id + '_startupsfnf.xlsx')\n",
    "\n",
    "#write the analysis dataframe to .xlsx file\n",
    "elif analyse == \"bi_direct\":\n",
    "  with pd.ExcelWriter(base_path + \"Analysis/SNA/\" + version_id + \"/\" + version_id + '_bi_direct.xlsx') as writer:\n",
    "    bi_direct_df.to_excel(writer, sheet_name= version_id + \"_bi_direct_df\", index=False)\n",
    "    print(\"bi_direct_fnf_df saved to \" + base_path + \"Analysis/SNA/\" + version_id + \" as \" + version_id + \"_bi_direct_df.xlsx\")\n",
    "\n",
    "#write the analysis dataframe to .xlsx file    \n",
    "elif analyse == \"weighted_bi_direct\":\n",
    "  with pd.ExcelWriter(base_path + \"Analysis/SNA/\" + version_id + \"/\" + version_id + '_weighted_bi_direct.xlsx') as writer:\n",
    "      weighted_bi_direct_df.to_excel(writer, sheet_name= version_id + \"_weighted_bi_direct_df\", index=False)\n",
    "      print(\"weighted_bi_direct_df saved to \" + base_path + \"Analysis/SNA/\" + version_id + \" as \" + version_id + \"_weighted_bi_direct_df.xlsx\")"
   ]
  },
  {
   "cell_type": "code",
   "execution_count": null,
   "metadata": {},
   "outputs": [],
   "source": []
  }
 ],
 "metadata": {
  "colab": {
   "collapsed_sections": [],
   "name": "Copy of 2019_06_20_4_NetworkX.ipynb",
   "provenance": [
    {
     "file_id": "14IwYU0gIZKElCGYPZ8sJdEW3Ek-hbrMf",
     "timestamp": 1563808465819
    }
   ],
   "version": "0.3.2"
  },
  "kernelspec": {
   "display_name": "Python 3",
   "language": "python",
   "name": "python3"
  },
  "language_info": {
   "codemirror_mode": {
    "name": "ipython",
    "version": 3
   },
   "file_extension": ".py",
   "mimetype": "text/x-python",
   "name": "python",
   "nbconvert_exporter": "python",
   "pygments_lexer": "ipython3",
   "version": "3.6.5"
  }
 },
 "nbformat": 4,
 "nbformat_minor": 1
}
