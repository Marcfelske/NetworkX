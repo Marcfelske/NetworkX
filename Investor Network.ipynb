{
 "cells": [
  {
   "cell_type": "code",
   "execution_count": null,
   "metadata": {
    "colab": {},
    "colab_type": "code",
    "id": "noBM9ZRYnt_J"
   },
   "outputs": [],
   "source": [
    "#run_in = 'local'\n",
    "run_in = 'colab'"
   ]
  },
  {
   "cell_type": "code",
   "execution_count": null,
   "metadata": {
    "colab": {
     "base_uri": "https://localhost:8080/",
     "height": 887
    },
    "colab_type": "code",
    "executionInfo": {
     "elapsed": 15515,
     "status": "ok",
     "timestamp": 1570625891148,
     "user": {
      "displayName": "DISPLAYNAME",
      "photoUrl": "PHOTOURL",
      "userId": "USERID"
     },
     "user_tz": -60
    },
    "id": "T9gn1ZUPnvEW",
    "outputId": "91c10e52-b94b-43d3-e2be-eea59a60983d"
   },
   "outputs": [],
   "source": [
    "if run_in == 'local':\n",
    "  import json\n",
    "  import matplotlib.pyplot as plt\n",
    "  import IPython\n",
    "  import os\n",
    "  import networkx as nx\n",
    "  import matplotlib.pyplot as plt\n",
    "  import pprint\n",
    "  pp = pprint.PrettyPrinter(indent=4)\n",
    "  import datetime\n",
    "  import time\n",
    "  import collections\n",
    "  import pandas as pd\n",
    "  import tweepy\n",
    "  print('Local runtime has packages')\n",
    "  \n",
    "if run_in == 'colab':\n",
    "  !pip install networkx[all]\n",
    "  !pip install matplotlib\n",
    "  !pip install tweepy\n",
    "  import json\n",
    "  import matplotlib.pyplot as plt\n",
    "  import IPython\n",
    "  import os\n",
    "  import networkx as nx\n",
    "  import matplotlib.pyplot as plt\n",
    "  import pprint\n",
    "  pp = pprint.PrettyPrinter(indent=4)\n",
    "  import datetime\n",
    "  import time\n",
    "  import collections\n",
    "  import pandas as pd\n",
    "  import tweepy\n",
    "  import sys\n",
    "  sys.setrecursionlimit(3000)"
   ]
  },
  {
   "cell_type": "code",
   "execution_count": null,
   "metadata": {
    "colab": {
     "base_uri": "https://localhost:8080/",
     "height": 297
    },
    "colab_type": "code",
    "executionInfo": {
     "elapsed": 37625,
     "status": "ok",
     "timestamp": 1570625913270,
     "user": {
      "displayName": "DISPLAYNAME",
      "photoUrl": "PHOTOURL",
      "userId": "USERID"
     },
     "user_tz": -60
    },
    "id": "xusEt_Fhn9oM",
    "outputId": "402d122f-89e1-47f4-8355-636bfb04e9da"
   },
   "outputs": [],
   "source": [
    "version_id = \"V14\"\n",
    "\n",
    "if run_in == 'local':\n",
    "  base_path = \"/users/USERNAME/Google Drive/USERNAME/\"\n",
    "if run_in == 'colab':\n",
    "  base_path = \"/content/drive/My Drive/USERNAME/\"\n",
    "  from google.colab import drive\n",
    "  drive.mount('/content/drive')\n",
    "  print()\n",
    "\n",
    "print('\\033[1m' +  'base_path set to:' + '\\033[0m')\n",
    "print(base_path)\n",
    "print()\n",
    "\n",
    "investors_filepath = base_path + \"Analysis/SNA/company_investor_edgelist_attributes.xlsx\"\n",
    "\n",
    "print('\\033[1m' +  'investors_filepath set to:' + '\\033[0m')\n",
    "print(investors_filepath)\n",
    "print(\"investors_filepath exists:\", os.path.isfile(investors_filepath))\n",
    "print(os.path.getsize(investors_filepath)/1000000, \"MB\")\n",
    "timestamp = os.path.getctime(investors_filepath) # seconds since the epoch\n",
    "creation_time = datetime.datetime.fromtimestamp(timestamp).strftime('%Y-%m-%d %H:%M:%S')\n",
    "print(\"Created at:\",creation_time)\n",
    "print()"
   ]
  },
  {
   "cell_type": "markdown",
   "metadata": {
    "colab_type": "text",
    "id": "-dvs_itUYQ89"
   },
   "source": [
    "# Graph import"
   ]
  },
  {
   "cell_type": "code",
   "execution_count": null,
   "metadata": {
    "colab": {
     "base_uri": "https://localhost:8080/",
     "height": 202
    },
    "colab_type": "code",
    "executionInfo": {
     "elapsed": 38484,
     "status": "ok",
     "timestamp": 1570625914143,
     "user": {
      "displayName": "DISPLAYNAME",
      "photoUrl": "PHOTOURL",
      "userId": "USERID"
     },
     "user_tz": -60
    },
    "id": "agHYHYX3mAh3",
    "outputId": "8fa8439b-604a-42a2-9461-ec3e9e754814"
   },
   "outputs": [],
   "source": [
    "df_company2investor = pd.read_excel(base_path + \"Analysis/SNA/company_investor_edgelist_attributes.xlsx\" , 'Connections', usecols = \"A,B\")\n",
    "df_company2investor.head()"
   ]
  },
  {
   "cell_type": "code",
   "execution_count": null,
   "metadata": {
    "colab": {
     "base_uri": "https://localhost:8080/",
     "height": 79
    },
    "colab_type": "code",
    "executionInfo": {
     "elapsed": 38473,
     "status": "ok",
     "timestamp": 1570625914144,
     "user": {
      "displayName": "DISPLAYNAME",
      "photoUrl": "PHOTOURL",
      "userId": "USERID"
     },
     "user_tz": -60
    },
    "id": "ww8syIc_mAh6",
    "outputId": "9e2ae342-2381-458c-cc79-0eda71f4a331"
   },
   "outputs": [],
   "source": [
    "df_show = df_company2investor.loc[df_company2investor['From'] == \"ai corporation\"]\n",
    "#df_show = df_company2investor.loc[df_company2investor['From'] == \"3co\"]\n",
    "df_show"
   ]
  },
  {
   "cell_type": "code",
   "execution_count": null,
   "metadata": {
    "colab": {
     "base_uri": "https://localhost:8080/",
     "height": 1000
    },
    "colab_type": "code",
    "executionInfo": {
     "elapsed": 38459,
     "status": "ok",
     "timestamp": 1570625914145,
     "user": {
      "displayName": "DISPLAYNAME",
      "photoUrl": "PHOTOURL",
      "userId": "USERID"
     },
     "user_tz": -60
    },
    "id": "7Sej6ihlQiNQ",
    "outputId": "3b284015-d280-4dc0-f6db-2c4a8d77c238"
   },
   "outputs": [],
   "source": [
    "#to read a dataframe into row wise lists:\n",
    "company2investor_list = df_company2investor.values.tolist()\n",
    "edge_list = []\n",
    "for edge in company2investor_list:\n",
    "  edge_list.append((edge[0],edge[1]))\n",
    "edge_list"
   ]
  },
  {
   "cell_type": "code",
   "execution_count": null,
   "metadata": {
    "colab": {
     "base_uri": "https://localhost:8080/",
     "height": 139
    },
    "colab_type": "code",
    "executionInfo": {
     "elapsed": 38447,
     "status": "ok",
     "timestamp": 1570625914146,
     "user": {
      "displayName": "DISPLAYNAME",
      "photoUrl": "PHOTOURL",
      "userId": "USERID"
     },
     "user_tz": -60
    },
    "id": "pghlyOp5mAh_",
    "outputId": "70dfe0a0-6c25-420d-9cf7-0ab657503ffc"
   },
   "outputs": [],
   "source": [
    "company2investors_graph = nx.Graph(name = \"company2investors_graph\")\n",
    "company2investors_graph.add_edges_from(edge_list)\n",
    "print('Successfully created graph of investors around the startups')\n",
    "print(nx.info(company2investors_graph))\n",
    "print(datetime.datetime.now())"
   ]
  },
  {
   "cell_type": "markdown",
   "metadata": {
    "colab_type": "text",
    "id": "gQy67KS1SaOb"
   },
   "source": [
    "## Decide if we want to remove nodes under a certain degree"
   ]
  },
  {
   "cell_type": "markdown",
   "metadata": {
    "colab_type": "text",
    "id": "q3xSIXBJV82_"
   },
   "source": [
    "show removable nodes"
   ]
  },
  {
   "cell_type": "code",
   "execution_count": null,
   "metadata": {
    "colab": {
     "base_uri": "https://localhost:8080/",
     "height": 52
    },
    "colab_type": "code",
    "executionInfo": {
     "elapsed": 38436,
     "status": "ok",
     "timestamp": 1570625914147,
     "user": {
      "displayName": "DISPLAYNAME",
      "photoUrl": "PHOTOURL",
      "userId": "USERID"
     },
     "user_tz": -60
    },
    "id": "DlIdznkJVxi8",
    "outputId": "8d5e63c8-5033-491f-bfe6-350b9b33e82e"
   },
   "outputs": [],
   "source": [
    "remove = [node for node,degree in company2investors_graph.degree() if degree < 0]\n",
    "print(len(remove))\n",
    "print(remove[:10])"
   ]
  },
  {
   "cell_type": "markdown",
   "metadata": {
    "colab_type": "text",
    "id": "5grf6fJkV_FR"
   },
   "source": [
    "remove nodes from graph"
   ]
  },
  {
   "cell_type": "code",
   "execution_count": null,
   "metadata": {
    "colab": {
     "base_uri": "https://localhost:8080/",
     "height": 55
    },
    "colab_type": "code",
    "executionInfo": {
     "elapsed": 38422,
     "status": "ok",
     "timestamp": 1570625914149,
     "user": {
      "displayName": "DISPLAYNAME",
      "photoUrl": "PHOTOURL",
      "userId": "USERID"
     },
     "user_tz": -60
    },
    "id": "NMGm6nYfWWWU",
    "outputId": "0833b43b-d2d7-4d3f-e778-6c53fe066001"
   },
   "outputs": [],
   "source": [
    "company2investors_graph.remove_nodes_from(remove)\n",
    "company2investors_graph.degree()"
   ]
  },
  {
   "cell_type": "markdown",
   "metadata": {
    "colab_type": "text",
    "id": "6HNx8LFHWDpX"
   },
   "source": [
    "show current nodes"
   ]
  },
  {
   "cell_type": "code",
   "execution_count": null,
   "metadata": {
    "colab": {
     "base_uri": "https://localhost:8080/",
     "height": 35
    },
    "colab_type": "code",
    "executionInfo": {
     "elapsed": 38412,
     "status": "ok",
     "timestamp": 1570625914151,
     "user": {
      "displayName": "DISPLAYNAME",
      "photoUrl": "PHOTOURL",
      "userId": "USERID"
     },
     "user_tz": -60
    },
    "id": "vVbx6eluWPuf",
    "outputId": "909d8822-2bed-4b90-8cad-9539b27a1011"
   },
   "outputs": [],
   "source": [
    "company2investors_graph.nodes()\n",
    "print(\"we have \" + str(len(company2investors_graph.nodes())) + \" nodes left for analysis\")"
   ]
  },
  {
   "cell_type": "markdown",
   "metadata": {
    "colab_type": "text",
    "id": "qqXbj3skSfKR"
   },
   "source": [
    "# Analyse"
   ]
  },
  {
   "cell_type": "markdown",
   "metadata": {
    "colab_type": "text",
    "id": "8jOGCL-ZmAiM"
   },
   "source": [
    " Create company statsdict"
   ]
  },
  {
   "cell_type": "code",
   "execution_count": null,
   "metadata": {
    "colab": {
     "base_uri": "https://localhost:8080/",
     "height": 35
    },
    "colab_type": "code",
    "executionInfo": {
     "elapsed": 38590,
     "status": "ok",
     "timestamp": 1570625914343,
     "user": {
      "displayName": "DISPLAYNAME",
      "photoUrl": "PHOTOURL",
      "userId": "USERID"
     },
     "user_tz": -60
    },
    "id": "sBJxOTDcmAiM",
    "outputId": "5ac9800a-ec23-4f4f-bb45-caa78d2bdc5f"
   },
   "outputs": [],
   "source": [
    "company_node_list = list(set([edge[0] for edge in company2investor_list]))\n",
    "company_node_list.sort()\n",
    "print(company_node_list[:10])"
   ]
  },
  {
   "cell_type": "code",
   "execution_count": null,
   "metadata": {
    "colab": {},
    "colab_type": "code",
    "id": "884rsixrmAiP"
   },
   "outputs": [],
   "source": [
    "company_statsdict = {}\n",
    "\n",
    "for node in company_node_list:\n",
    "    company_statsdict[node] = {}\n",
    "    company_statsdict[node][\"tag\"] = \"company\""
   ]
  },
  {
   "cell_type": "code",
   "execution_count": null,
   "metadata": {
    "colab": {
     "base_uri": "https://localhost:8080/",
     "height": 1000
    },
    "colab_type": "code",
    "executionInfo": {
     "elapsed": 38573,
     "status": "ok",
     "timestamp": 1570625914344,
     "user": {
      "displayName": "DISPLAYNAME",
      "photoUrl": "PHOTOURL",
      "userId": "USERID"
     },
     "user_tz": -60
    },
    "id": "J4D1fDqvmAiS",
    "outputId": "01a87c8c-1e83-4a01-e210-5c7589eca95b"
   },
   "outputs": [],
   "source": [
    "pp.pprint(company_statsdict)"
   ]
  },
  {
   "cell_type": "markdown",
   "metadata": {
    "colab_type": "text",
    "id": "GwcO2_Ge-ka1"
   },
   "source": [
    " Create investor statsdict"
   ]
  },
  {
   "cell_type": "code",
   "execution_count": null,
   "metadata": {
    "colab": {
     "base_uri": "https://localhost:8080/",
     "height": 35
    },
    "colab_type": "code",
    "executionInfo": {
     "elapsed": 38559,
     "status": "ok",
     "timestamp": 1570625914345,
     "user": {
      "displayName": "DISPLAYNAME",
      "photoUrl": "PHOTOURL",
      "userId": "USERID"
     },
     "user_tz": -60
    },
    "id": "vqCV_u7-mAiX",
    "outputId": "4255fdac-95e4-486e-fa8d-55905ce43dc2"
   },
   "outputs": [],
   "source": [
    "investor_node_list = list(set([edge[1] for edge in company2investor_list]))\n",
    "investor_node_list.sort()\n",
    "print(investor_node_list[:10])"
   ]
  },
  {
   "cell_type": "code",
   "execution_count": null,
   "metadata": {
    "colab": {},
    "colab_type": "code",
    "id": "isahGwTsmAiZ"
   },
   "outputs": [],
   "source": [
    "investor_statsdict = {}\n",
    "\n",
    "for node in investor_node_list:\n",
    "    investor_statsdict[node] = {}\n",
    "    investor_statsdict[node][\"tag\"] = \"investor\""
   ]
  },
  {
   "cell_type": "code",
   "execution_count": null,
   "metadata": {
    "colab": {
     "base_uri": "https://localhost:8080/",
     "height": 1000
    },
    "colab_type": "code",
    "executionInfo": {
     "elapsed": 39108,
     "status": "ok",
     "timestamp": 1570625914908,
     "user": {
      "displayName": "DISPLAYNAME",
      "photoUrl": "PHOTOURL",
      "userId": "USERID"
     },
     "user_tz": -60
    },
    "id": "sKQInqt-mAib",
    "outputId": "c839fe1d-3e42-4a20-9a5d-55c6c3d79193"
   },
   "outputs": [],
   "source": [
    "pp.pprint(investor_statsdict)"
   ]
  },
  {
   "cell_type": "markdown",
   "metadata": {
    "colab_type": "text",
    "id": "YV96hTL7Svzp"
   },
   "source": [
    "## Degree"
   ]
  },
  {
   "cell_type": "markdown",
   "metadata": {
    "colab_type": "text",
    "id": "DEzmyHc2K-5T"
   },
   "source": [
    "Total degree"
   ]
  },
  {
   "cell_type": "code",
   "execution_count": null,
   "metadata": {
    "colab": {
     "base_uri": "https://localhost:8080/",
     "height": 1000
    },
    "colab_type": "code",
    "executionInfo": {
     "elapsed": 39970,
     "status": "ok",
     "timestamp": 1570625915787,
     "user": {
      "displayName": "DISPLAYNAME",
      "photoUrl": "PHOTOURL",
      "userId": "USERID"
     },
     "user_tz": -60
    },
    "id": "BR1YUWHZb_D0",
    "outputId": "f32fa1b1-278d-4494-e982-a013d20664eb",
    "scrolled": true
   },
   "outputs": [],
   "source": [
    "degree = list(company2investors_graph.degree)\n",
    "degree = sorted(degree, key=lambda x: x[1],reverse=True)\n",
    "\n",
    "for node in degree:\n",
    "    if node[0] in investor_statsdict.keys():\n",
    "        print(node[0], \"is in investors_statsdict\")\n",
    "        investor_statsdict[node[0]][\"c_and_i_degree\"] = node[1]\n",
    "    if node[0] in company_statsdict.keys():\n",
    "        print(node[0], \"is not in investors_statsdict so it is in company_statsdict\")\n",
    "        company_statsdict[node[0]][\"c_and_i_degree\"] = node[1]"
   ]
  },
  {
   "cell_type": "markdown",
   "metadata": {
    "colab_type": "text",
    "id": "bae57HitV08b"
   },
   "source": [
    "## Centrality metrics\n",
    "https://networkx.github.io/documentation/stable/reference/algorithms/centrality.html"
   ]
  },
  {
   "cell_type": "markdown",
   "metadata": {
    "colab_type": "text",
    "id": "KctjNbS-jPpi"
   },
   "source": [
    "### Degree Centrality"
   ]
  },
  {
   "cell_type": "code",
   "execution_count": null,
   "metadata": {
    "colab": {},
    "colab_type": "code",
    "id": "-QNOn4o9H3xn"
   },
   "outputs": [],
   "source": [
    "d_centrality = nx.degree_centrality(company2investors_graph)\n",
    "\n",
    "for key,value in d_centrality.items():\n",
    "  if key in investor_statsdict.keys():\n",
    "    investor_statsdict[key][\"c_and_i_degree_centrality\"] = float(value)\n",
    "  if key in company_statsdict.keys():\n",
    "    company_statsdict[key][\"c_and_i_degree_centrality\"] = float(value)"
   ]
  },
  {
   "cell_type": "markdown",
   "metadata": {
    "colab_type": "text",
    "id": "KLVj3sgjSosJ"
   },
   "source": [
    "### Betweeness Centrality"
   ]
  },
  {
   "cell_type": "code",
   "execution_count": null,
   "metadata": {
    "colab": {
     "base_uri": "https://localhost:8080/",
     "height": 1000
    },
    "colab_type": "code",
    "executionInfo": {
     "elapsed": 40889,
     "status": "ok",
     "timestamp": 1570625916720,
     "user": {
      "displayName": "DISPLAYNAME",
      "photoUrl": "PHOTOURL",
      "userId": "USERID"
     },
     "user_tz": -60
    },
    "id": "2Mu2DC7WmAin",
    "outputId": "8dbac1dc-4cab-4e02-f059-9a3174b396d5"
   },
   "outputs": [],
   "source": [
    "pp.pprint(company_statsdict)"
   ]
  },
  {
   "cell_type": "code",
   "execution_count": null,
   "metadata": {
    "colab": {
     "base_uri": "https://localhost:8080/",
     "height": 52
    },
    "colab_type": "code",
    "executionInfo": {
     "elapsed": 66517,
     "status": "ok",
     "timestamp": 1570625942368,
     "user": {
      "displayName": "DISPLAYNAME",
      "photoUrl": "PHOTOURL",
      "userId": "USERID"
     },
     "user_tz": -60
    },
    "id": "F65Xit4VB2Jo",
    "outputId": "f7c5eb14-5245-42be-9089-0002358ff40c"
   },
   "outputs": [],
   "source": [
    "print(datetime.datetime.now())\n",
    "b_centrality = nx.betweenness_centrality(company2investors_graph)\n",
    "print(datetime.datetime.now())\n",
    "\n",
    "for key,value in b_centrality.items():\n",
    "  if key in investor_statsdict.keys():\n",
    "    investor_statsdict[key][\"c_and_i_betweenness_centrality\"] = float(value)\n",
    "  if key in company_statsdict.keys():\n",
    "    company_statsdict[key][\"c_and_i_betweenness_centrality\"] = float(value)"
   ]
  },
  {
   "cell_type": "markdown",
   "metadata": {
    "colab_type": "text",
    "id": "cDj_I3nXjRvM"
   },
   "source": [
    "### Eigenvector Centrality"
   ]
  },
  {
   "cell_type": "code",
   "execution_count": null,
   "metadata": {
    "colab": {
     "base_uri": "https://localhost:8080/",
     "height": 52
    },
    "colab_type": "code",
    "executionInfo": {
     "elapsed": 66762,
     "status": "ok",
     "timestamp": 1570625942626,
     "user": {
      "displayName": "DISPLAYNAME",
      "photoUrl": "PHOTOURL",
      "userId": "USERID"
     },
     "user_tz": -60
    },
    "id": "yvv2pCX6I-R9",
    "outputId": "806e6a94-bd6d-425a-8d77-98db6a9d7b62"
   },
   "outputs": [],
   "source": [
    "print(datetime.datetime.now())\n",
    "e_centrality = nx.eigenvector_centrality(company2investors_graph)\n",
    "#sorted(e_centrality.items(), key=lambda x: x[1],reverse=True)\n",
    "print(datetime.datetime.now())\n",
    "\n",
    "for key,value in e_centrality.items():\n",
    "  if key in investor_statsdict.keys():\n",
    "    investor_statsdict[key][\"c_and_i_eigenvector_centrality\"] = float(value)\n",
    "  if key in company_statsdict.keys():\n",
    "    company_statsdict[key][\"c_and_i_eigenvector_centrality\"] = float(value)"
   ]
  },
  {
   "cell_type": "code",
   "execution_count": null,
   "metadata": {
    "colab": {
     "base_uri": "https://localhost:8080/",
     "height": 1000
    },
    "colab_type": "code",
    "executionInfo": {
     "elapsed": 69922,
     "status": "ok",
     "timestamp": 1570625945797,
     "user": {
      "displayName": "DISPLAYNAME",
      "photoUrl": "PHOTOURL",
      "userId": "USERID"
     },
     "user_tz": -60
    },
    "id": "AYGn0ROymAiv",
    "outputId": "12f014fa-3836-4c06-dff1-3d12984ce0f9"
   },
   "outputs": [],
   "source": [
    "pp.pprint(investor_statsdict)"
   ]
  },
  {
   "cell_type": "markdown",
   "metadata": {
    "colab_type": "text",
    "id": "4j6gjAyijWKK"
   },
   "source": [
    "### Turn into dataframe"
   ]
  },
  {
   "cell_type": "code",
   "execution_count": null,
   "metadata": {
    "colab": {
     "base_uri": "https://localhost:8080/",
     "height": 202
    },
    "colab_type": "code",
    "executionInfo": {
     "elapsed": 69906,
     "status": "ok",
     "timestamp": 1570625945798,
     "user": {
      "displayName": "DISPLAYNAME",
      "photoUrl": "PHOTOURL",
      "userId": "USERID"
     },
     "user_tz": -60
    },
    "id": "oO1A0s_ACKX0",
    "outputId": "b7ac3c25-2847-4062-b60e-c270da7a49b6"
   },
   "outputs": [],
   "source": [
    "#df_companyandinvestor = pd.DataFrame.from_dict(investors_statsdict)\n",
    "df_investor = pd.DataFrame.from_dict(investor_statsdict, orient='index')\n",
    "df_investor.reset_index(level=0, inplace=True)\n",
    "df_investor = df_investor.sort_values(by=['c_and_i_degree'],ascending=False)\n",
    "df_investor = df_investor.rename(index=str, columns={\"index\" : \"investor_name\"})\n",
    "df_investor.head()"
   ]
  },
  {
   "cell_type": "code",
   "execution_count": null,
   "metadata": {
    "colab": {
     "base_uri": "https://localhost:8080/",
     "height": 202
    },
    "colab_type": "code",
    "executionInfo": {
     "elapsed": 69896,
     "status": "ok",
     "timestamp": 1570625945799,
     "user": {
      "displayName": "DISPLAYNAME",
      "photoUrl": "PHOTOURL",
      "userId": "USERID"
     },
     "user_tz": -60
    },
    "id": "EK0I-sObmAi2",
    "outputId": "d26ffa21-f7c5-4926-dbc0-f4bdba47909d"
   },
   "outputs": [],
   "source": [
    "#df_companyandinvestor = pd.DataFrame.from_dict(investors_statsdict)\n",
    "df_company = pd.DataFrame.from_dict(company_statsdict, orient='index')\n",
    "df_company.reset_index(level=0, inplace=True)\n",
    "df_company = df_company.sort_values(by=['c_and_i_degree'],ascending=False)\n",
    "df_company = df_company.rename(index=str, columns={\"index\" : \"company_name\"})\n",
    "df_company.head()"
   ]
  },
  {
   "cell_type": "markdown",
   "metadata": {
    "colab_type": "text",
    "id": "Ht_CUTVRf35A"
   },
   "source": [
    "# Save results"
   ]
  },
  {
   "cell_type": "code",
   "execution_count": null,
   "metadata": {
    "colab": {},
    "colab_type": "code",
    "id": "yP3CiAeAgwuz"
   },
   "outputs": [],
   "source": [
    "#write the analysis dataframe to .xlsx file    \n",
    "with pd.ExcelWriter(base_path + \"Analysis/SNA/SNA investors and companies.xlsx\") as writer:\n",
    "    df_investor.to_excel(writer, sheet_name= version_id +\"df_investor_SNA\", index=False)\n",
    "    df_company.to_excel(writer, sheet_name= version_id +\"df_company_SNA\", index=False)"
   ]
  }
 ],
 "metadata": {
  "colab": {
   "collapsed_sections": [],
   "name": "2019_09_04 NetworkX Startups, Accelerators, Investors.ipynb",
   "provenance": []
  },
  "kernelspec": {
   "display_name": "Python 3",
   "language": "python",
   "name": "python3"
  },
  "language_info": {
   "codemirror_mode": {
    "name": "ipython",
    "version": 3
   },
   "file_extension": ".py",
   "mimetype": "text/x-python",
   "name": "python",
   "nbconvert_exporter": "python",
   "pygments_lexer": "ipython3",
   "version": "3.6.5"
  }
 },
 "nbformat": 4,
 "nbformat_minor": 1
}
